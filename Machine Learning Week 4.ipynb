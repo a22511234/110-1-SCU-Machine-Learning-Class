{
 "cells": [
  {
   "cell_type": "code",
   "execution_count": 45,
   "id": "5faabe97",
   "metadata": {},
   "outputs": [
    {
     "data": {
      "text/plain": [
       "Text(0, 0.5, 'y')"
      ]
     },
     "execution_count": 45,
     "metadata": {},
     "output_type": "execute_result"
    },
    {
     "data": {
      "image/png": "[encoded data removed]",
      "text/plain": [
       "<Figure size 432x288 with 1 Axes>"
      ]
     },
     "metadata": {
      "needs_background": "light"
     },
     "output_type": "display_data"
    }
   ],
   "source": [
    "import pandas as pd\n",
    "import matplotlib.pyplot as plt\n",
    "import numpy as np\n",
    "\n",
    "data=pd.read_csv('regression.csv')\n",
    "x=data.iloc[:,0].values\n",
    "y=data.iloc[:,-1].values\n",
    "\n",
    "plt.scatter(x,y)\n",
    "plt.xlabel(\"x\")\n",
    "plt.ylabel(\"y\")"
   ]
  },
  {
   "cell_type": "code",
   "execution_count": null,
   "id": "db296264",
   "metadata": {},
   "outputs": [],
   "source": [
    "from sklearn.preprocessing import StandardScaler\n",
    "sc_x=StandardScaler()\n",
    "x_std =sc_x.fit_transform(x)"
   ]
  },
  {
   "cell_type": "code",
   "execution_count": 46,
   "id": "e41b20e6",
   "metadata": {},
   "outputs": [],
   "source": [
    "from sklearn.preprocessing import StandardScaler\n",
    "sc_x=StandardScaler()\n",
    "x1=x.reshape(-1,1)\n",
    "x_std =sc_x.fit_transform(x1)"
   ]
  },
  {
   "cell_type": "code",
   "execution_count": 47,
   "id": "61a42318",
   "metadata": {},
   "outputs": [
    {
     "data": {
      "text/html": [
       "<div>\n",
       "<style scoped>\n",
       "    .dataframe tbody tr th:only-of-type {\n",
       "        vertical-align: middle;\n",
       "    }\n",
       "\n",
       "    .dataframe tbody tr th {\n",
       "        vertical-align: top;\n",
       "    }\n",
       "\n",
       "    .dataframe thead th {\n",
       "        text-align: right;\n",
       "    }\n",
       "</style>\n",
       "<table border=\"1\" class=\"dataframe\">\n",
       "  <thead>\n",
       "    <tr style=\"text-align: right;\">\n",
       "      <th></th>\n",
       "      <th>X</th>\n",
       "      <th>y</th>\n",
       "    </tr>\n",
       "  </thead>\n",
       "  <tbody>\n",
       "    <tr>\n",
       "      <th>X</th>\n",
       "      <td>1.000000</td>\n",
       "      <td>0.950392</td>\n",
       "    </tr>\n",
       "    <tr>\n",
       "      <th>y</th>\n",
       "      <td>0.950392</td>\n",
       "      <td>1.000000</td>\n",
       "    </tr>\n",
       "  </tbody>\n",
       "</table>\n",
       "</div>"
      ],
      "text/plain": [
       "          X         y\n",
       "X  1.000000  0.950392\n",
       "y  0.950392  1.000000"
      ]
     },
     "execution_count": 47,
     "metadata": {},
     "output_type": "execute_result"
    }
   ],
   "source": [
    "data.corr()"
   ]
  },
  {
   "cell_type": "code",
   "execution_count": 48,
   "id": "eb60adb3",
   "metadata": {},
   "outputs": [
    {
     "name": "stdout",
     "output_type": "stream",
     "text": [
      "slope: 95.564\n",
      "intercept: 428.600\n"
     ]
    }
   ],
   "source": [
    "from sklearn.linear_model import LinearRegression\n",
    "\n",
    "lr = LinearRegression()\n",
    "lr.fit(x_std,y)\n",
    "y_pred=lr.predict(x_std)\n",
    "print('slope: %.3f'%lr.coef_[0])\n",
    "print('intercept: %.3f' %lr.intercept_)"
   ]
  },
  {
   "cell_type": "code",
   "execution_count": 49,
   "id": "6a0a5b33",
   "metadata": {},
   "outputs": [
    {
     "data": {
      "text/plain": [
       "[<matplotlib.lines.Line2D at 0x28ec8a01670>]"
      ]
     },
     "execution_count": 49,
     "metadata": {},
     "output_type": "execute_result"
    },
    {
     "data": {
      "image/png": "[encoded data removed]",
      "text/plain": [
       "<Figure size 432x288 with 1 Axes>"
      ]
     },
     "metadata": {
      "needs_background": "light"
     },
     "output_type": "display_data"
    }
   ],
   "source": [
    "x=np.linspace(-3,3,100)\n",
    "plt.plot(x_std,y,'o')\n",
    "plt.plot(x,lr.intercept_+lr.coef_[0]*x)"
   ]
  },
  {
   "cell_type": "code",
   "execution_count": 50,
   "id": "f8d8e5ec",
   "metadata": {},
   "outputs": [
    {
     "name": "stdout",
     "output_type": "stream",
     "text": [
      "RMSE: 31.2771807249736\n",
      "MAE 26.205609711524744\n",
      "R^2 0.9032452585960414\n"
     ]
    }
   ],
   "source": [
    "import sklearn.metrics as sm\n",
    "mse = sm.mean_squared_error(y,y_pred)\n",
    "print(\"RMSE:\",np.sqrt(mse))\n",
    "print(\"MAE\",sm.mean_absolute_error(y,y_pred))\n",
    "print(\"R^2\",sm.r2_score(y,y_pred))"
   ]
  },
  {
   "cell_type": "code",
   "execution_count": 54,
   "id": "7afd7357",
   "metadata": {},
   "outputs": [
    {
     "name": "stdout",
     "output_type": "stream",
     "text": [
      "theta 1  97.13314163314575\n",
      "theta 2  22.62345494852565\n",
      "intercept  405.9765450514744\n",
      "theta 2  22.62345494852565\n",
      "intercept 405.9765450514744\n"
     ]
    },
    {
     "data": {
      "image/png": "[encoded data removed]",
      "text/plain": [
       "<Figure size 432x288 with 1 Axes>"
      ]
     },
     "metadata": {
      "needs_background": "light"
     },
     "output_type": "display_data"
    }
   ],
   "source": [
    "from sklearn.preprocessing import PolynomialFeatures\n",
    "\n",
    "pr= LinearRegression()\n",
    "quadratic= PolynomialFeatures(degree=2)\n",
    "x_quad= quadratic.fit_transform(x_std)\n",
    "\n",
    "pr.fit(x_quad,y)\n",
    "y_quad_pred=pr.predict(x_quad)\n",
    "\n",
    "print(\"theta 1 \",pr.coef_[1])\n",
    "print(\"theta 2 \",pr.coef_[2])\n",
    "print(\"intercept \",pr.intercept_)\n",
    "\n",
    "x=np.linspace(-3,3,100)\n",
    "plt.plot(x_std,y,'o')\n",
    "plt.plot(x,pr.intercept_+pr.coef_[1]*x+pr.coef_[2]*x*x)"
   ]
  },
  {
   "cell_type": "code",
   "execution_count": 55,
   "metadata": {},
   "outputs": [
    {
     "name": "stdout",
     "output_type": "stream",
     "text": [
      "theta 1  118.00650190902782\n",
      "theta 2  25.073835247792484\n",
      "theta 3  -9.503843191096571\n",
      "intercept  402.8669868092573\n"
     ]
    },
    {
     "data": {
      "text/plain": [
       "[<matplotlib.lines.Line2D at 0x28ec8acb070>]"
      ]
     },
     "execution_count": 55,
     "metadata": {},
     "output_type": "execute_result"
    },
    {
     "data": {
      "image/png": "[encoded data removed]",
      "text/plain": [
       "<Figure size 432x288 with 1 Axes>"
      ]
     },
     "metadata": {
      "needs_background": "light"
     },
     "output_type": "display_data"
    }
   ],
   "source": [
    "from sklearn.preprocessing import PolynomialFeatures\n",
    "\n",
    "pr= LinearRegression()\n",
    "quadratic= PolynomialFeatures(degree=3)\n",
    "x_quad= quadratic.fit_transform(x_std)\n",
    "\n",
    "pr.fit(x_quad,y)\n",
    "y_quad_pred=pr.predict(x_quad)\n",
    "\n",
    "print(\"theta 1 \",pr.coef_[1])\n",
    "print(\"theta 2 \",pr.coef_[2])\n",
    "print(\"theta 3 \",pr.coef_[3])\n",
    "print(\"intercept \",pr.intercept_)\n",
    "\n",
    "x=np.linspace(-3,3,100)\n",
    "plt.plot(x_std,y,'o')\n",
    "plt.plot(x,pr.intercept_+pr.coef_[1]*x+pr.coef_[2]*x*x+pr.coef_[3]*x*x*x)"
   ]
  }
 ],
 "metadata": {
  "interpreter": {
   "hash": "01710d6ff9ef28a97193a69fb1add7d21e3d16f5237838ee0a77060e92cba67c"
  },
  "kernelspec": {
   "display_name": "Python 3",
   "language": "python",
   "name": "python3"
  },
  "language_info": {
   "codemirror_mode": {
    "name": "ipython",
    "version": 3
   },
   "file_extension": ".py",
   "mimetype": "text/x-python",
   "name": "python",
   "nbconvert_exporter": "python",
   "pygments_lexer": "ipython3",
   "version": "3.8.8"
  }
 },
 "nbformat": 4,
 "nbformat_minor": 5
}
