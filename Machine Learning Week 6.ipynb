{
 "cells": [
  {
   "cell_type": "code",
   "execution_count": 9,
   "metadata": {},
   "outputs": [
    {
     "data": {
      "text/html": [
       "<div>\n",
       "<style scoped>\n",
       "    .dataframe tbody tr th:only-of-type {\n",
       "        vertical-align: middle;\n",
       "    }\n",
       "\n",
       "    .dataframe tbody tr th {\n",
       "        vertical-align: top;\n",
       "    }\n",
       "\n",
       "    .dataframe thead th {\n",
       "        text-align: right;\n",
       "    }\n",
       "</style>\n",
       "<table border=\"1\" class=\"dataframe\">\n",
       "  <thead>\n",
       "    <tr style=\"text-align: right;\">\n",
       "      <th></th>\n",
       "      <th>sepal length (cm)</th>\n",
       "      <th>sepal width (cm)</th>\n",
       "      <th>petal length (cm)</th>\n",
       "      <th>petal width (cm)</th>\n",
       "      <th>class</th>\n",
       "    </tr>\n",
       "  </thead>\n",
       "  <tbody>\n",
       "    <tr>\n",
       "      <th>0</th>\n",
       "      <td>5.1</td>\n",
       "      <td>3.5</td>\n",
       "      <td>1.4</td>\n",
       "      <td>0.2</td>\n",
       "      <td>0</td>\n",
       "    </tr>\n",
       "    <tr>\n",
       "      <th>1</th>\n",
       "      <td>4.9</td>\n",
       "      <td>3.0</td>\n",
       "      <td>1.4</td>\n",
       "      <td>0.2</td>\n",
       "      <td>0</td>\n",
       "    </tr>\n",
       "    <tr>\n",
       "      <th>2</th>\n",
       "      <td>4.7</td>\n",
       "      <td>3.2</td>\n",
       "      <td>1.3</td>\n",
       "      <td>0.2</td>\n",
       "      <td>0</td>\n",
       "    </tr>\n",
       "    <tr>\n",
       "      <th>3</th>\n",
       "      <td>4.6</td>\n",
       "      <td>3.1</td>\n",
       "      <td>1.5</td>\n",
       "      <td>0.2</td>\n",
       "      <td>0</td>\n",
       "    </tr>\n",
       "    <tr>\n",
       "      <th>4</th>\n",
       "      <td>5.0</td>\n",
       "      <td>3.6</td>\n",
       "      <td>1.4</td>\n",
       "      <td>0.2</td>\n",
       "      <td>0</td>\n",
       "    </tr>\n",
       "    <tr>\n",
       "      <th>...</th>\n",
       "      <td>...</td>\n",
       "      <td>...</td>\n",
       "      <td>...</td>\n",
       "      <td>...</td>\n",
       "      <td>...</td>\n",
       "    </tr>\n",
       "    <tr>\n",
       "      <th>95</th>\n",
       "      <td>5.7</td>\n",
       "      <td>3.0</td>\n",
       "      <td>4.2</td>\n",
       "      <td>1.2</td>\n",
       "      <td>1</td>\n",
       "    </tr>\n",
       "    <tr>\n",
       "      <th>96</th>\n",
       "      <td>5.7</td>\n",
       "      <td>2.9</td>\n",
       "      <td>4.2</td>\n",
       "      <td>1.3</td>\n",
       "      <td>1</td>\n",
       "    </tr>\n",
       "    <tr>\n",
       "      <th>97</th>\n",
       "      <td>6.2</td>\n",
       "      <td>2.9</td>\n",
       "      <td>4.3</td>\n",
       "      <td>1.3</td>\n",
       "      <td>1</td>\n",
       "    </tr>\n",
       "    <tr>\n",
       "      <th>98</th>\n",
       "      <td>5.1</td>\n",
       "      <td>2.5</td>\n",
       "      <td>3.0</td>\n",
       "      <td>1.1</td>\n",
       "      <td>1</td>\n",
       "    </tr>\n",
       "    <tr>\n",
       "      <th>99</th>\n",
       "      <td>5.7</td>\n",
       "      <td>2.8</td>\n",
       "      <td>4.1</td>\n",
       "      <td>1.3</td>\n",
       "      <td>1</td>\n",
       "    </tr>\n",
       "  </tbody>\n",
       "</table>\n",
       "<p>100 rows × 5 columns</p>\n",
       "</div>"
      ],
      "text/plain": [
       "    sepal length (cm)  sepal width (cm)  petal length (cm)  petal width (cm)  \\\n",
       "0                 5.1               3.5                1.4               0.2   \n",
       "1                 4.9               3.0                1.4               0.2   \n",
       "2                 4.7               3.2                1.3               0.2   \n",
       "3                 4.6               3.1                1.5               0.2   \n",
       "4                 5.0               3.6                1.4               0.2   \n",
       "..                ...               ...                ...               ...   \n",
       "95                5.7               3.0                4.2               1.2   \n",
       "96                5.7               2.9                4.2               1.3   \n",
       "97                6.2               2.9                4.3               1.3   \n",
       "98                5.1               2.5                3.0               1.1   \n",
       "99                5.7               2.8                4.1               1.3   \n",
       "\n",
       "    class  \n",
       "0       0  \n",
       "1       0  \n",
       "2       0  \n",
       "3       0  \n",
       "4       0  \n",
       "..    ...  \n",
       "95      1  \n",
       "96      1  \n",
       "97      1  \n",
       "98      1  \n",
       "99      1  \n",
       "\n",
       "[100 rows x 5 columns]"
      ]
     },
     "execution_count": 9,
     "metadata": {},
     "output_type": "execute_result"
    }
   ],
   "source": [
    "import pandas as pd\n",
    "import numpy as np\n",
    "from sklearn.datasets import load_iris\n",
    "\n",
    "iris = load_iris()\n",
    "\n",
    "feature = pd.DataFrame(iris['data'],columns=iris['feature_names'])\n",
    "target = pd.DataFrame(iris['target'],columns=['class'])\n",
    "\n",
    "data = pd.concat([feature,target],axis=1)\n",
    "df=data[data['class']!=2]\n",
    "df"
   ]
  },
  {
   "cell_type": "code",
   "execution_count": 13,
   "metadata": {},
   "outputs": [
    {
     "name": "stderr",
     "output_type": "stream",
     "text": [
      "C:\\Users\\Howard\\anaconda3\\lib\\site-packages\\seaborn\\axisgrid.py:316: UserWarning: The `size` parameter has been renamed to `height`; please update your code.\n",
      "  warnings.warn(msg, UserWarning)\n"
     ]
    },
    {
     "data": {
      "text/plain": [
       "<seaborn.axisgrid.FacetGrid at 0x2a06c3b95b0>"
      ]
     },
     "execution_count": 13,
     "metadata": {},
     "output_type": "execute_result"
    },
    {
     "data": {
      "image/png": "[encoded data removed]",
      "text/plain": [
       "<Figure size 402.375x360 with 1 Axes>"
      ]
     },
     "metadata": {},
     "output_type": "display_data"
    }
   ],
   "source": [
    "import matplotlib.pyplot as plt\n",
    "import seaborn as sns\n",
    "plt.style.use('ggplot')\n",
    "g=sns.FacetGrid(df,hue='class',size=5)\n",
    "g.map(plt.scatter,\"sepal length (cm)\" , \"sepal width (cm)\")\n",
    "g.add_legend()"
   ]
  },
  {
   "cell_type": "code",
   "execution_count": 17,
   "metadata": {},
   "outputs": [
    {
     "data": {
      "text/plain": [
       "array([[-5.81065904e-01,  8.41837140e-01],\n",
       "       [-8.94308978e-01, -2.07835104e-01],\n",
       "       [-1.20755205e+00,  2.12033793e-01],\n",
       "       [-1.36417359e+00,  2.09934449e-03],\n",
       "       [-7.37687441e-01,  1.05177159e+00],\n",
       "       [-1.11201292e-01,  1.68157493e+00],\n",
       "       [-1.36417359e+00,  6.31902691e-01],\n",
       "       [-7.37687441e-01,  6.31902691e-01],\n",
       "       [-1.67741667e+00, -4.17769553e-01],\n",
       "       [-8.94308978e-01,  2.09934449e-03],\n",
       "       [-1.11201292e-01,  1.26170604e+00],\n",
       "       [-1.05093052e+00,  6.31902691e-01],\n",
       "       [-1.05093052e+00, -2.07835104e-01],\n",
       "       [-1.83403820e+00, -2.07835104e-01],\n",
       "       [ 5.15284858e-01,  1.89150938e+00],\n",
       "       [ 3.58663321e-01,  2.73124718e+00],\n",
       "       [-1.11201292e-01,  1.68157493e+00],\n",
       "       [-5.81065904e-01,  8.41837140e-01],\n",
       "       [ 3.58663321e-01,  1.47164049e+00],\n",
       "       [-5.81065904e-01,  1.47164049e+00],\n",
       "       [-1.11201292e-01,  6.31902691e-01],\n",
       "       [-5.81065904e-01,  1.26170604e+00],\n",
       "       [-1.36417359e+00,  1.05177159e+00],\n",
       "       [-5.81065904e-01,  4.21968242e-01],\n",
       "       [-1.05093052e+00,  6.31902691e-01],\n",
       "       [-7.37687441e-01, -2.07835104e-01],\n",
       "       [-7.37687441e-01,  6.31902691e-01],\n",
       "       [-4.24444366e-01,  8.41837140e-01],\n",
       "       [-4.24444366e-01,  6.31902691e-01],\n",
       "       [-1.20755205e+00,  2.12033793e-01],\n",
       "       [-1.05093052e+00,  2.09934449e-03],\n",
       "       [-1.11201292e-01,  6.31902691e-01],\n",
       "       [-4.24444366e-01,  2.10144383e+00],\n",
       "       [ 4.54202458e-02,  2.31137828e+00],\n",
       "       [-8.94308978e-01,  2.09934449e-03],\n",
       "       [-7.37687441e-01,  2.12033793e-01],\n",
       "       [ 4.54202458e-02,  8.41837140e-01],\n",
       "       [-8.94308978e-01,  1.05177159e+00],\n",
       "       [-1.67741667e+00, -2.07835104e-01],\n",
       "       [-5.81065904e-01,  6.31902691e-01],\n",
       "       [-7.37687441e-01,  8.41837140e-01],\n",
       "       [-1.52079513e+00, -1.67737625e+00],\n",
       "       [-1.67741667e+00,  2.12033793e-01],\n",
       "       [-7.37687441e-01,  8.41837140e-01],\n",
       "       [-5.81065904e-01,  1.47164049e+00],\n",
       "       [-1.05093052e+00, -2.07835104e-01],\n",
       "       [-5.81065904e-01,  1.47164049e+00],\n",
       "       [-1.36417359e+00,  2.12033793e-01],\n",
       "       [-2.67822829e-01,  1.26170604e+00],\n",
       "       [-7.37687441e-01,  4.21968242e-01],\n",
       "       [ 2.39474331e+00,  2.12033793e-01],\n",
       "       [ 1.45501408e+00,  2.12033793e-01],\n",
       "       [ 2.23812177e+00,  2.09934449e-03],\n",
       "       [ 4.54202458e-02, -1.67737625e+00],\n",
       "       [ 1.61163562e+00, -6.27704002e-01],\n",
       "       [ 3.58663321e-01, -6.27704002e-01],\n",
       "       [ 1.29839254e+00,  4.21968242e-01],\n",
       "       [-8.94308978e-01, -1.46744180e+00],\n",
       "       [ 1.76825716e+00, -4.17769553e-01],\n",
       "       [-4.24444366e-01, -8.37638451e-01],\n",
       "       [-7.37687441e-01, -2.30717959e+00],\n",
       "       [ 6.71906395e-01, -2.07835104e-01],\n",
       "       [ 8.28527933e-01, -1.88731069e+00],\n",
       "       [ 9.85149470e-01, -4.17769553e-01],\n",
       "       [ 2.02041783e-01, -4.17769553e-01],\n",
       "       [ 1.92487869e+00,  2.09934449e-03],\n",
       "       [ 2.02041783e-01, -2.07835104e-01],\n",
       "       [ 5.15284858e-01, -8.37638451e-01],\n",
       "       [ 1.14177101e+00, -1.88731069e+00],\n",
       "       [ 2.02041783e-01, -1.25750735e+00],\n",
       "       [ 6.71906395e-01,  2.12033793e-01],\n",
       "       [ 9.85149470e-01, -6.27704002e-01],\n",
       "       [ 1.29839254e+00, -1.25750735e+00],\n",
       "       [ 9.85149470e-01, -6.27704002e-01],\n",
       "       [ 1.45501408e+00, -4.17769553e-01],\n",
       "       [ 1.76825716e+00, -2.07835104e-01],\n",
       "       [ 2.08150023e+00, -6.27704002e-01],\n",
       "       [ 1.92487869e+00, -2.07835104e-01],\n",
       "       [ 8.28527933e-01, -4.17769553e-01],\n",
       "       [ 3.58663321e-01, -1.04757290e+00],\n",
       "       [ 4.54202458e-02, -1.46744180e+00],\n",
       "       [ 4.54202458e-02, -1.46744180e+00],\n",
       "       [ 5.15284858e-01, -8.37638451e-01],\n",
       "       [ 8.28527933e-01, -8.37638451e-01],\n",
       "       [-1.11201292e-01, -2.07835104e-01],\n",
       "       [ 8.28527933e-01,  6.31902691e-01],\n",
       "       [ 1.92487869e+00,  2.09934449e-03],\n",
       "       [ 1.29839254e+00, -1.67737625e+00],\n",
       "       [ 2.02041783e-01, -2.07835104e-01],\n",
       "       [ 4.54202458e-02, -1.25750735e+00],\n",
       "       [ 4.54202458e-02, -1.04757290e+00],\n",
       "       [ 9.85149470e-01, -2.07835104e-01],\n",
       "       [ 5.15284858e-01, -1.04757290e+00],\n",
       "       [-7.37687441e-01, -1.67737625e+00],\n",
       "       [ 2.02041783e-01, -8.37638451e-01],\n",
       "       [ 3.58663321e-01, -2.07835104e-01],\n",
       "       [ 3.58663321e-01, -4.17769553e-01],\n",
       "       [ 1.14177101e+00, -4.17769553e-01],\n",
       "       [-5.81065904e-01, -1.25750735e+00],\n",
       "       [ 3.58663321e-01, -6.27704002e-01]])"
      ]
     },
     "execution_count": 17,
     "metadata": {},
     "output_type": "execute_result"
    }
   ],
   "source": [
    "from sklearn.model_selection import train_test_split\n",
    "from sklearn.preprocessing import StandardScaler\n",
    "\n",
    "X=df.iloc[:,:2].values\n",
    "Y=df.iloc[:,4].values\n",
    "\n",
    "sc=StandardScaler()\n",
    "sc.fit(X)\n",
    "X_std = sc.transform(X)"
   ]
  },
  {
   "cell_type": "code",
   "execution_count": 35,
   "metadata": {},
   "outputs": [
    {
     "name": "stdout",
     "output_type": "stream",
     "text": [
      "[[ 9.97519721 -6.71009506]]\n",
      "[1.81731713]\n",
      "[ 9.97519721 -6.71009506]\n"
     ]
    }
   ],
   "source": [
    "from sklearn.linear_model import LogisticRegression\n",
    "from matplotlib.colors import ListedColormap\n",
    "\n",
    "lr= LogisticRegression(C=100.0 ,random_state=1)\n",
    "#C=1/a\n",
    "lr.fit(X_std,Y)\n",
    "\n",
    "print(lr.coef_)\n",
    "print(lr.intercept_)\n",
    "print(lr.coef_[0])"
   ]
  },
  {
   "cell_type": "code",
   "execution_count": 31,
   "metadata": {},
   "outputs": [],
   "source": [
    "def plot_dicision_regions(X,Y,classifier,test_idx=None,resolution=0.02):\n",
    "    markers=('s','x','o','^','v')\n",
    "    colors=('red','blue','lightgreen','gray','cyan')\n",
    "    camp = ListedColormap(colors[:len(np.unique(Y))])\n",
    "\n",
    "    x1_min,x1_max=X[:,0].min()-1,X[:,0].max()+1\n",
    "    x2_min,x2_max=X[:,1].min()-1,X[:,1].max()+1\n",
    "    xx1,xx2=np.meshgrid(np.arange(x1_min,x1_max,resolution),np.arange(x2_min,x2_max,resolution))\n",
    "    Z=classifier.predict(np.array([xx1.ravel(),xx2.ravel()]).T)\n",
    "    Z=Z.reshape(xx1.shape)\n",
    "    plt.contourf(xx1,xx2,Z,alpha=0.3,camp=camp)\n",
    "    plt.xlim(xx1.min(),xx1.max())\n",
    "    plt.ylim(xx2.min(),xx2.max())\n",
    "\n",
    "    for idx,cl in enumerate(np.unique(Y)):\n",
    "        plt.scatter(x=X[Y==cl,0],\n",
    "                    y=X[Y==cl,1],\n",
    "                    alpha=0.8,\n",
    "                    c=colors[idx],\n",
    "                    marker=markers[idx],\n",
    "                    label=cl,\n",
    "                    edgecolor='black')\n",
    "    \n",
    "    if test_idx:\n",
    "        x_test,y_test=X[test_idx,:],Y[test_idx]\n",
    "\n",
    "        plt.scatter(x_test[:,0],\n",
    "                    x_test[:,1],\n",
    "                    c='',\n",
    "                    edgecolor='black',\n",
    "                    alpha=1.0,\n",
    "                    linewidths=1,\n",
    "                    marker='o',\n",
    "                    s=100,\n",
    "                    label='test set')\n",
    "\n",
    "    "
   ]
  },
  {
   "cell_type": "code",
   "execution_count": 49,
   "metadata": {},
   "outputs": [
    {
     "name": "stdout",
     "output_type": "stream",
     "text": [
      "0\n",
      "1\n"
     ]
    },
    {
     "name": "stderr",
     "output_type": "stream",
     "text": [
      "<ipython-input-31-1a3e2eb50e56>:11: UserWarning: The following kwargs were not used by contour: 'camp'\n",
      "  plt.contourf(xx1,xx2,Z,alpha=0.3,camp=camp)\n"
     ]
    },
    {
     "data": {
      "text/plain": [
       "<matplotlib.legend.Legend at 0x2a06dd6c9a0>"
      ]
     },
     "execution_count": 49,
     "metadata": {},
     "output_type": "execute_result"
    },
    {
     "data": {
      "image/png": "[encoded data removed]",
      "text/plain": [
       "<Figure size 432x288 with 1 Axes>"
      ]
     },
     "metadata": {},
     "output_type": "display_data"
    }
   ],
   "source": [
    "plot_dicision_regions(X_std,Y,classifier=lr)\n",
    "x=np.linspace(-3,3.5)\n",
    "plt.plot(x,lr.intercept_+lr.coef_[0][0]*x)\n",
    "plt.xlabel('sepal length [standardixed]')\n",
    "plt.ylabel('sepal width [standardixed]')\n",
    "plt.legend(loc='upper left')"
   ]
  },
  {
   "cell_type": "code",
   "execution_count": 46,
   "metadata": {},
   "outputs": [
    {
     "data": {
      "text/plain": [
       "[<matplotlib.lines.Line2D at 0x2a06c9053d0>]"
      ]
     },
     "execution_count": 46,
     "metadata": {},
     "output_type": "execute_result"
    },
    {
     "data": {
      "image/png": "[encoded data removed]",
      "text/plain": [
       "<Figure size 432x288 with 1 Axes>"
      ]
     },
     "metadata": {},
     "output_type": "display_data"
    }
   ],
   "source": [
    "x=np.linspace(-3,3.5)\n",
    "plt.plot(x,lr.intercept_+lr.coef_[0][0]*x)"
   ]
  }
 ],
 "metadata": {
  "interpreter": {
   "hash": "1b3b8e24d66e9eaa01f1fbf3f0bf3e0b3f92ea25a6eecda978bdcb240dcc9a0b"
  },
  "kernelspec": {
   "display_name": "Python 3.8.8 64-bit ('base': conda)",
   "name": "python3"
  },
  "language_info": {
   "codemirror_mode": {
    "name": "ipython",
    "version": 3
   },
   "file_extension": ".py",
   "mimetype": "text/x-python",
   "name": "python",
   "nbconvert_exporter": "python",
   "pygments_lexer": "ipython3",
   "version": "3.8.8"
  },
  "orig_nbformat": 4
 },
 "nbformat": 4,
 "nbformat_minor": 2
}
