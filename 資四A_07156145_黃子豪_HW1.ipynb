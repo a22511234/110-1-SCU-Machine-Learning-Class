{
 "cells": [
  {
   "cell_type": "code",
   "execution_count": 2,
   "metadata": {
    "scrolled": true
   },
   "outputs": [
    {
     "data": {
      "text/plain": [
       "[529, 576, 625, 676, 729, 784, 841, 900, 961, 1024]"
      ]
     },
     "execution_count": 2,
     "metadata": {},
     "output_type": "execute_result"
    }
   ],
   "source": [
    "#費氏數列（Fibonacci sequence\n",
    "def f(x):\n",
    "    if x == 0 or x ==1:\n",
    "        return x\n",
    "    else:\n",
    "        return f(x-1) + f(x-2)\n",
    "listAns = [x*x for x in range (23,33)]\n",
    "listAns"
   ]
  },
  {
   "cell_type": "code",
   "execution_count": 4,
   "metadata": {},
   "outputs": [
    {
     "data": {
      "text/plain": [
       "[49, 81, 9, 225]"
      ]
     },
     "execution_count": 4,
     "metadata": {},
     "output_type": "execute_result"
    }
   ],
   "source": [
    "#串列生成式(list comprehension)\n",
    "a=[4,-2,7,10,2,-9,100,3,15]\n",
    "Ans=[x*x for x in a if(x%2!=0)]\n",
    "Ans"
   ]
  },
  {
   "cell_type": "code",
   "execution_count": 23,
   "metadata": {},
   "outputs": [
    {
     "name": "stdout",
     "output_type": "stream",
     "text": [
      "進站順序: MB->MC->ME->MD->MA->\n",
      "最短等待時間: 18\n"
     ]
    }
   ],
   "source": [
    "#進站問題(1)\n",
    "a=[8,2,4,7,5]\n",
    "#每次挑停留時間最短的進去\n",
    "sum=max(a)*(-1) #因為最後一台車進去沒有車需要等待他\n",
    "oder=\"\"\n",
    "for i in a:\n",
    "    sum+=min(a)\n",
    "    oder+=\"M\"+str(chr(ord('A')+a.index(min(a)))+\"->\")\n",
    "    a[a.index(min(a))]=99\n",
    "print(\"進站順序:\",oder)\n",
    "print(\"最短等待時間:\",sum)        "
   ]
  },
  {
   "cell_type": "code",
   "execution_count": 2,
   "metadata": {},
   "outputs": [
    {
     "name": "stdout",
     "output_type": "stream",
     "text": [
      "進站順序: ['MM101', 'MX101', 'MM102', 'MM103', 'MX102', 'MM104']\n",
      "總等待時間: 10\n"
     ]
    }
   ],
   "source": [
    "#進站問題(2)\n",
    "Train ={\"MM101\":[10,5], \"MX101\":[10,8], \"MM102\":[30,5],\n",
    "        \"MM103\":[33,5], \"MX102\":[50,8], \"MM104\":[55,5]}\n",
    "\n",
    "train =list(Train.values())\n",
    "trainName =list(Train.keys())\n",
    "wtrain=[]\n",
    "wlist =[]\n",
    "\n",
    "wait = 0\n",
    "time = 0 \n",
    "\n",
    "while len(train)!= 0:\n",
    "    for i in range (len(train)):\n",
    "        if(time==train[i][0]):\n",
    "            if(len(train)!=0):\n",
    "                wlist.append(train[i])\n",
    "                wtrain.append(trainName[i])\n",
    "            trainName.remove(trainName[i])\n",
    "            train.remove(train[i])\n",
    "            time -=1\n",
    "            break;\n",
    "    if(len(wlist)!=0):\n",
    "        if(wlist[0][0]+wlist[0][1]==time):\n",
    "            wlist.remove(wlist[0])\n",
    "        elif(len(wlist)==2):\n",
    "            wait +=1\n",
    "            if(wlist[0][0]==wlist[1][0]):\n",
    "                wlist[1][0] = wlist[1][0]+wlist[0][1]\n",
    "    \n",
    "    time +=1\n",
    "\n",
    "print(\"進站順序:\",wtrain)\n",
    "print(\"總等待時間:\",wait)"
   ]
  }
 ],
 "metadata": {
  "kernelspec": {
   "display_name": "Python 3",
   "language": "python",
   "name": "python3"
  },
  "language_info": {
   "codemirror_mode": {
    "name": "ipython",
    "version": 3
   },
   "file_extension": ".py",
   "mimetype": "text/x-python",
   "name": "python",
   "nbconvert_exporter": "python",
   "pygments_lexer": "ipython3",
   "version": "3.8.5"
  }
 },
 "nbformat": 4,
 "nbformat_minor": 4
}
